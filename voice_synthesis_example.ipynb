{
  "nbformat": 4,
  "nbformat_minor": 0,
  "metadata": {
    "colab": {
      "name": "voice-synthesis-example.ipynb",
      "provenance": []
    },
    "kernelspec": {
      "name": "python3",
      "display_name": "Python 3"
    },
    "accelerator": "GPU"
  },
  "cells": [
    {
      "cell_type": "code",
      "metadata": {
        "id": "Lzg2lDJFzn4C",
        "colab_type": "code",
        "colab": {
          "base_uri": "https://localhost:8080/",
          "height": 52
        },
        "outputId": "11d00164-69c8-4af2-8c52-9f7d771c0f47"
      },
      "source": [
        "# Remove TF2 in colab\n",
        "!pip uninstall -y tensorflow"
      ],
      "execution_count": 1,
      "outputs": [
        {
          "output_type": "stream",
          "text": [
            "Uninstalling tensorflow-2.2.0rc3:\n",
            "  Successfully uninstalled tensorflow-2.2.0rc3\n"
          ],
          "name": "stdout"
        }
      ]
    },
    {
      "cell_type": "code",
      "metadata": {
        "id": "aUfN9V6CsF73",
        "colab_type": "code",
        "colab": {
          "base_uri": "https://localhost:8080/",
          "height": 372
        },
        "outputId": "ffd7f26c-21c8-4ece-ef7a-5f21993cd916"
      },
      "source": [
        "# Download dependencies\n",
        "\n",
        "!pip install -q -r requirements.txt\n",
        "!apt-get install -qq libportaudio2"
      ],
      "execution_count": 2,
      "outputs": [
        {
          "output_type": "stream",
          "text": [
            "\u001b[K     |████████████████████████████████| 377.0MB 46kB/s \n",
            "\u001b[K     |████████████████████████████████| 686kB 42.5MB/s \n",
            "\u001b[K     |████████████████████████████████| 71kB 10.2MB/s \n",
            "\u001b[K     |████████████████████████████████| 245kB 51.6MB/s \n",
            "\u001b[K     |████████████████████████████████| 63.6MB 47kB/s \n",
            "\u001b[K     |████████████████████████████████| 3.2MB 44.0MB/s \n",
            "\u001b[K     |████████████████████████████████| 491kB 59.9MB/s \n",
            "\u001b[K     |████████████████████████████████| 204kB 54.7MB/s \n",
            "\u001b[K     |████████████████████████████████| 256kB 56.5MB/s \n",
            "\u001b[?25h  Building wheel for visdom (setup.py) ... \u001b[?25l\u001b[?25hdone\n",
            "  Building wheel for webrtcvad (setup.py) ... \u001b[?25l\u001b[?25hdone\n",
            "  Building wheel for torchfile (setup.py) ... \u001b[?25l\u001b[?25hdone\n",
            "Selecting previously unselected package libportaudio2:amd64.\n",
            "(Reading database ... 144568 files and directories currently installed.)\n",
            "Preparing to unpack .../libportaudio2_19.6.0-1_amd64.deb ...\n",
            "Unpacking libportaudio2:amd64 (19.6.0-1) ...\n",
            "Setting up libportaudio2:amd64 (19.6.0-1) ...\n",
            "Processing triggers for libc-bin (2.27-3ubuntu1) ...\n",
            "/sbin/ldconfig.real: /usr/local/lib/python3.6/dist-packages/ideep4py/lib/libmkldnn.so.0 is not a symbolic link\n",
            "\n"
          ],
          "name": "stdout"
        }
      ]
    },
    {
      "cell_type": "code",
      "metadata": {
        "id": "FgS0Q4HUsI1Z",
        "colab_type": "code",
        "colab": {
          "base_uri": "https://localhost:8080/",
          "height": 372
        },
        "outputId": "629f4fb9-d04f-448a-d5c3-a6f0ad8281d1"
      },
      "source": [
        "# Download pretrained models\n",
        "\n",
        "!gdown https://drive.google.com/uc?id=1n1sPXvT34yXFLT47QZA6FIRGrwMeSsZc\n",
        "!unzip pretrained.zip"
      ],
      "execution_count": 3,
      "outputs": [
        {
          "output_type": "stream",
          "text": [
            "Downloading...\n",
            "From: https://drive.google.com/uc?id=1n1sPXvT34yXFLT47QZA6FIRGrwMeSsZc\n",
            "To: /content/pretrained.zip\n",
            "384MB [00:02, 172MB/s]\n",
            "Archive:  pretrained.zip\n",
            "   creating: encoder/\n",
            "   creating: encoder/saved_models/\n",
            "  inflating: encoder/saved_models/pretrained.pt  \n",
            "   creating: synthesizer/\n",
            "   creating: synthesizer/saved_models/\n",
            "   creating: synthesizer/saved_models/logs-pretrained/\n",
            "   creating: synthesizer/saved_models/logs-pretrained/taco_pretrained/\n",
            " extracting: synthesizer/saved_models/logs-pretrained/taco_pretrained/checkpoint  \n",
            "  inflating: synthesizer/saved_models/logs-pretrained/taco_pretrained/tacotron_model.ckpt-278000.data-00000-of-00001  \n",
            "  inflating: synthesizer/saved_models/logs-pretrained/taco_pretrained/tacotron_model.ckpt-278000.index  \n",
            "  inflating: synthesizer/saved_models/logs-pretrained/taco_pretrained/tacotron_model.ckpt-278000.meta  \n",
            "   creating: vocoder/\n",
            "   creating: vocoder/saved_models/\n",
            "   creating: vocoder/saved_models/pretrained/\n",
            "  inflating: vocoder/saved_models/pretrained/pretrained.pt  \n"
          ],
          "name": "stdout"
        }
      ]
    },
    {
      "cell_type": "code",
      "metadata": {
        "id": "Pg3S-ytw5amI",
        "colab_type": "code",
        "colab": {
          "base_uri": "https://localhost:8080/",
          "height": 1000
        },
        "outputId": "1d5badc7-6627-4588-a600-bf1b48ee908c"
      },
      "source": [
        "# Get Helper funcs\n",
        "\n",
        "!apt-get install -qq subversion\n",
        "!svn checkout https://github.com/CorentinJ/Real-Time-Voice-Cloning/trunk/encoder\n",
        "!svn checkout https://github.com/CorentinJ/Real-Time-Voice-Cloning/trunk/vocoder\n",
        "!svn checkout https://github.com/CorentinJ/Real-Time-Voice-Cloning/trunk/synthesizer"
      ],
      "execution_count": 4,
      "outputs": [
        {
          "output_type": "stream",
          "text": [
            "Selecting previously unselected package libapr1:amd64.\n",
            "(Reading database ... \r(Reading database ... 5%\r(Reading database ... 10%\r(Reading database ... 15%\r(Reading database ... 20%\r(Reading database ... 25%\r(Reading database ... 30%\r(Reading database ... 35%\r(Reading database ... 40%\r(Reading database ... 45%\r(Reading database ... 50%\r(Reading database ... 55%\r(Reading database ... 60%\r(Reading database ... 65%\r(Reading database ... 70%\r(Reading database ... 75%\r(Reading database ... 80%\r(Reading database ... 85%\r(Reading database ... 90%\r(Reading database ... 95%\r(Reading database ... 100%\r(Reading database ... 144574 files and directories currently installed.)\n",
            "Preparing to unpack .../libapr1_1.6.3-2_amd64.deb ...\n",
            "Unpacking libapr1:amd64 (1.6.3-2) ...\n",
            "Selecting previously unselected package libaprutil1:amd64.\n",
            "Preparing to unpack .../libaprutil1_1.6.1-2_amd64.deb ...\n",
            "Unpacking libaprutil1:amd64 (1.6.1-2) ...\n",
            "Selecting previously unselected package libserf-1-1:amd64.\n",
            "Preparing to unpack .../libserf-1-1_1.3.9-6_amd64.deb ...\n",
            "Unpacking libserf-1-1:amd64 (1.3.9-6) ...\n",
            "Selecting previously unselected package libsvn1:amd64.\n",
            "Preparing to unpack .../libsvn1_1.9.7-4ubuntu1_amd64.deb ...\n",
            "Unpacking libsvn1:amd64 (1.9.7-4ubuntu1) ...\n",
            "Selecting previously unselected package subversion.\n",
            "Preparing to unpack .../subversion_1.9.7-4ubuntu1_amd64.deb ...\n",
            "Unpacking subversion (1.9.7-4ubuntu1) ...\n",
            "Setting up libapr1:amd64 (1.6.3-2) ...\n",
            "Setting up libaprutil1:amd64 (1.6.1-2) ...\n",
            "Setting up libserf-1-1:amd64 (1.3.9-6) ...\n",
            "Setting up libsvn1:amd64 (1.9.7-4ubuntu1) ...\n",
            "Setting up subversion (1.9.7-4ubuntu1) ...\n",
            "Processing triggers for libc-bin (2.27-3ubuntu1) ...\n",
            "/sbin/ldconfig.real: /usr/local/lib/python3.6/dist-packages/ideep4py/lib/libmkldnn.so.0 is not a symbolic link\n",
            "\n",
            "Processing triggers for man-db (2.8.3-2ubuntu0.1) ...\n",
            "A    encoder/__init__.py\n",
            "A    encoder/audio.py\n",
            "A    encoder/config.py\n",
            "A    encoder/data_objects\n",
            "A    encoder/data_objects/__init__.py\n",
            "A    encoder/data_objects/random_cycler.py\n",
            "A    encoder/data_objects/speaker.py\n",
            "A    encoder/data_objects/speaker_batch.py\n",
            "A    encoder/data_objects/speaker_verification_dataset.py\n",
            "A    encoder/data_objects/utterance.py\n",
            "A    encoder/inference.py\n",
            "A    encoder/model.py\n",
            "A    encoder/params_data.py\n",
            "A    encoder/params_model.py\n",
            "A    encoder/preprocess.py\n",
            "A    encoder/train.py\n",
            "A    encoder/visualizations.py\n",
            "Checked out revision 255.\n",
            "A    vocoder/LICENSE.txt\n",
            "A    vocoder/audio.py\n",
            "A    vocoder/display.py\n",
            "A    vocoder/distribution.py\n",
            "A    vocoder/gen_wavernn.py\n",
            "A    vocoder/hparams.py\n",
            "A    vocoder/inference.py\n",
            "A    vocoder/models\n",
            "A    vocoder/models/deepmind_version.py\n",
            "A    vocoder/models/fatchord_version.py\n",
            "A    vocoder/train.py\n",
            "A    vocoder/vocoder_dataset.py\n",
            "Checked out revision 255.\n",
            "A    synthesizer/LICENSE.txt\n",
            "A    synthesizer/__init__.py\n",
            "A    synthesizer/audio.py\n",
            "A    synthesizer/feeder.py\n",
            "A    synthesizer/hparams.py\n",
            "A    synthesizer/inference.py\n",
            "A    synthesizer/infolog.py\n",
            "A    synthesizer/models\n",
            "A    synthesizer/models/__init__.py\n",
            "A    synthesizer/models/architecture_wrappers.py\n",
            "A    synthesizer/models/attention.py\n",
            "A    synthesizer/models/custom_decoder.py\n",
            "A    synthesizer/models/helpers.py\n",
            "A    synthesizer/models/modules.py\n",
            "A    synthesizer/models/tacotron.py\n",
            "A    synthesizer/preprocess.py\n",
            "A    synthesizer/synthesize.py\n",
            "A    synthesizer/tacotron2.py\n",
            "A    synthesizer/train.py\n",
            "A    synthesizer/utils\n",
            "A    synthesizer/utils/__init__.py\n",
            "A    synthesizer/utils/_cmudict.py\n",
            "A    synthesizer/utils/cleaners.py\n",
            "A    synthesizer/utils/numbers.py\n",
            "A    synthesizer/utils/plot.py\n",
            "A    synthesizer/utils/symbols.py\n",
            "A    synthesizer/utils/text.py\n",
            "Checked out revision 255.\n"
          ],
          "name": "stdout"
        }
      ]
    },
    {
      "cell_type": "code",
      "metadata": {
        "id": "sXI4iet1zXvN",
        "colab_type": "code",
        "colab": {}
      },
      "source": [
        "import uuid\n",
        "import librosa\n",
        "import IPython\n",
        "import warnings\n",
        "\n",
        "import numpy as np\n",
        "import ipywidgets as widgets\n",
        "\n",
        "from pathlib import Path\n",
        "from base64 import b64decode\n",
        "from IPython.utils import io\n",
        "from google.colab import output\n",
        "from IPython.display import Audio\n",
        "from IPython.display import Javascript\n",
        "from encoder import inference as encoder\n",
        "from vocoder import inference as vocoder\n",
        "from synthesizer.inference import Synthesizer\n",
        "\n",
        "warnings.filterwarnings('ignore')"
      ],
      "execution_count": 0,
      "outputs": []
    },
    {
      "cell_type": "code",
      "metadata": {
        "id": "tlA0hLa_s3wz",
        "colab_type": "code",
        "colab": {}
      },
      "source": [
        "# Don't actually need this for function calls, only for exemplar study\n",
        "\n",
        "class InvokeButton(object):\n",
        "  def __init__(self, title, callback):\n",
        "    self._title = title\n",
        "    self._callback = callback\n",
        "\n",
        "  def _repr_html_(self):\n",
        "    callback_id = 'button-' + str(uuid.uuid4())\n",
        "    output.register_callback(callback_id, self._callback) # refer to https://ipywidgets.readthedocs.io/en/latest/examples/Widget%20Events.html for IPython events  \n",
        "\n",
        "    template = \"\"\"<button id=\"{callback_id}\" style=\"cursor:pointer;background-color:#EEEEEE;border-color:#E0E0E0;padding:5px 15px;font-size:14px\">{title}</button>\n",
        "        <script>\n",
        "          document.querySelector(\"#{callback_id}\").onclick = (e) => {{\n",
        "            google.colab.kernel.invokeFunction('{callback_id}', [], {{}})\n",
        "            e.preventDefault();\n",
        "          }};\n",
        "        </script>\"\"\"\n",
        "    html = template.format(title = self._title, callback_id = callback_id)\n",
        "    return html\n",
        "\n",
        "RECORD = \"\"\"\n",
        "const sleep  = time => new Promise(resolve => setTimeout(resolve, time))\n",
        "const b2text = blob => new Promise(resolve => {\n",
        "  const reader = new FileReader()\n",
        "  reader.onloadend = e => resolve(e.srcElement.result)\n",
        "  reader.readAsDataURL(blob)\n",
        "})\n",
        "var record = time => new Promise(async resolve => {\n",
        "  stream = await navigator.mediaDevices.getUserMedia({ audio: true })\n",
        "  recorder = new MediaRecorder(stream)\n",
        "  chunks = []\n",
        "  recorder.ondataavailable = e => chunks.push(e.data)\n",
        "  recorder.start()\n",
        "  await sleep(time)\n",
        "  recorder.onstop = async ()=>{\n",
        "    blob = new Blob(chunks)\n",
        "    text = await b2text(blob)\n",
        "    resolve(text)\n",
        "  }\n",
        "  recorder.stop()\n",
        "})\n",
        "\"\"\"\n",
        "\n",
        "def record(sec = 3):\n",
        "  display(Javascript(RECORD))\n",
        "  s = output.eval_js('record(%d)' % (sec*1000))\n",
        "  b = b64decode(s.split(',')[1])\n",
        "  with open('audio.wav','wb+') as f:\n",
        "    f.write(b)\n",
        "  return 'audio.wav'"
      ],
      "execution_count": 0,
      "outputs": []
    },
    {
      "cell_type": "code",
      "metadata": {
        "id": "TJkLzyRaxz_X",
        "colab_type": "code",
        "colab": {
          "base_uri": "https://localhost:8080/",
          "height": 105
        },
        "outputId": "a9c719e8-ca09-40d0-9e93-7364ff90d74f"
      },
      "source": [
        "encoder_weights = Path(\"encoder/saved_models/pretrained.pt\")\n",
        "vocoder_weights = Path(\"vocoder/saved_models/pretrained/pretrained.pt\")\n",
        "syn_dir = Path(\"synthesizer/saved_models/logs-pretrained/taco_pretrained\")\n",
        "encoder.load_model(encoder_weights)\n",
        "synthesizer = Synthesizer(syn_dir)\n",
        "vocoder.load_model(vocoder_weights)"
      ],
      "execution_count": 7,
      "outputs": [
        {
          "output_type": "stream",
          "text": [
            "Loaded encoder \"pretrained.pt\" trained to step 1564501\n",
            "Found synthesizer \"pretrained\" trained to step 278000\n",
            "Building Wave-RNN\n",
            "Trainable Parameters: 4.481M\n",
            "Loading model weights at vocoder/saved_models/pretrained/pretrained.pt\n"
          ],
          "name": "stdout"
        }
      ]
    },
    {
      "cell_type": "code",
      "metadata": {
        "id": "5ruE_-3K7P-d",
        "colab_type": "code",
        "colab": {
          "base_uri": "https://localhost:8080/",
          "height": 46
        },
        "outputId": "2ad0f76c-a58f-4a37-b9d4-91374c0aba20"
      },
      "source": [
        "# Record in Ipython and display synthesized voice\n",
        "\n",
        "def synth():\n",
        "  text = \"This is being said in my own voice.  The computer has learned to do an impression of me.\" # Text to be emulated by the speaker\n",
        "  print(\"Now recording for 10 seconds, say what you will...\")\n",
        "  record(10)\n",
        "  print(\"Audio recording complete\")\n",
        "  in_fpath = Path(\"audio.wav\") # Audio file to be synthesized, can be changed to audio file of choice, refer synthesizer.py\n",
        "  reprocessed_wav = encoder.preprocess_wav(in_fpath)\n",
        "  original_wav, sampling_rate = librosa.load(in_fpath)\n",
        "  preprocessed_wav = encoder.preprocess_wav(original_wav, sampling_rate)\n",
        "  embed = encoder.embed_utterance(preprocessed_wav)\n",
        "  print(\"Synthesizing new audio...\")\n",
        "  with io.capture_output() as captured:\n",
        "    specs = synthesizer.synthesize_spectrograms([text], [embed])\n",
        "  generated_wav = vocoder.infer_waveform(specs[0])\n",
        "  generated_wav = np.pad(generated_wav, (0, synthesizer.sample_rate), mode=\"constant\")\n",
        "  display(Audio(generated_wav, rate=synthesizer.sample_rate))\n",
        "InvokeButton('Start recording', synth)"
      ],
      "execution_count": 8,
      "outputs": [
        {
          "output_type": "execute_result",
          "data": {
            "text/html": [
              "<button id=\"button-d81b6e9d-e548-4477-ac8a-39ec4e9a5a11\" style=\"cursor:pointer;background-color:#EEEEEE;border-color:#E0E0E0;padding:5px 15px;font-size:14px\">Start recording</button>\n",
              "        <script>\n",
              "          document.querySelector(\"#button-d81b6e9d-e548-4477-ac8a-39ec4e9a5a11\").onclick = (e) => {\n",
              "            google.colab.kernel.invokeFunction('button-d81b6e9d-e548-4477-ac8a-39ec4e9a5a11', [], {})\n",
              "            e.preventDefault();\n",
              "          };\n",
              "        </script>"
            ],
            "text/plain": [
              "<__main__.InvokeButton at 0x7f9bf02066d8>"
            ]
          },
          "metadata": {
            "tags": []
          },
          "execution_count": 8
        }
      ]
    }
  ]
}